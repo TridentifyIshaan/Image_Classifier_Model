{
  "nbformat": 4,
  "nbformat_minor": 0,
  "metadata": {
    "colab": {
      "provenance": [],
      "authorship_tag": "ABX9TyNX2oO5i+/NTQcU6Ov1f4Kf",
      "include_colab_link": true
    },
    "kernelspec": {
      "name": "python3",
      "display_name": "Python 3"
    },
    "language_info": {
      "name": "python"
    }
  },
  "cells": [
    {
      "cell_type": "markdown",
      "metadata": {
        "id": "view-in-github",
        "colab_type": "text"
      },
      "source": [
        "<a href=\"https://colab.research.google.com/github/TridentifyIshaan/SeasonofAI/blob/mainstream/First_Simple_Gan.ipynb\" target=\"_parent\"><img src=\"https://colab.research.google.com/assets/colab-badge.svg\" alt=\"Open In Colab\"/></a>"
      ]
    },
    {
      "cell_type": "markdown",
      "source": [
        "# Importing Libarries"
      ],
      "metadata": {
        "id": "shS5VL1wQIef"
      }
    },
    {
      "cell_type": "code",
      "execution_count": null,
      "metadata": {
        "id": "cHFV0Pi8PWFQ"
      },
      "outputs": [],
      "source": [
        "import torch\n",
        "import torch.nn as nn\n",
        "import torch.optim as optim\n",
        "import torchvision\n",
        "import torchvision.datasets as datasets\n",
        "from torch.utils.data import DataLoader\n",
        "import torchvision.transforms as T\n",
        "from torch.utils.tensorboard import SummaryWriter"
      ]
    },
    {
      "cell_type": "markdown",
      "source": [
        "# Discriminator"
      ],
      "metadata": {
        "id": "Xd1cW7FiQwrw"
      }
    },
    {
      "cell_type": "code",
      "source": [
        "class Discriminator(nn.Module):\n",
        "  def __init__(self, img_dim):\n",
        "    super().__init__()\n",
        "    self.disc = nn.Sequential(\n",
        "        nn.Linear(img_dim, 128),\n",
        "        nn.LeakyReLU(0.1),\n",
        "        nn.Linear(128, 1),\n",
        "        nn.Sigmoid(),\n",
        "    )\n",
        "\n",
        "  def forward(self, x):\n",
        "    return self.disc(x)"
      ],
      "metadata": {
        "id": "d0ThKxGJQOmP"
      },
      "execution_count": null,
      "outputs": []
    },
    {
      "cell_type": "markdown",
      "source": [
        "# Generator"
      ],
      "metadata": {
        "id": "Nm7amqcGQ2Xe"
      }
    },
    {
      "cell_type": "code",
      "source": [
        "class generator(nn.Module):\n",
        "    def __init__(self, z_dim, img_dim):\n",
        "        super().__init__()\n",
        "        self.gen = nn.Sequential(\n",
        "            nn.Linear(z_dim, 256),\n",
        "            nn.LeakyReLU(0.1),\n",
        "            nn.Linear(256, img_dim),\n",
        "            nn.Tanh(), #For Range -1 to 1\n",
        "        )\n",
        "    def forward(self, x):\n",
        "        return self.gen(x)"
      ],
      "metadata": {
        "id": "X4XaAkodQ5ws"
      },
      "execution_count": null,
      "outputs": []
    },
    {
      "cell_type": "markdown",
      "source": [
        "# Hyperparameter, etc."
      ],
      "metadata": {
        "id": "IGipo5PoSJzK"
      }
    },
    {
      "cell_type": "code",
      "source": [
        "device = \"cuda\" if torch.cuda.is_available() else \"cpu\"\n",
        "lr = 3e-4 # Best learning rate for adam\n",
        "z_dim = 64 # 128, 256 can also be tried\n",
        "image_dim = 28 * 28 * 1 #784\n",
        "batch_size = 32\n",
        "num_epochs = 50\n",
        "\n",
        "disc = Discriminator(image_dim).to(device)\n",
        "gen = generator(z_dim, image_dim).to(device)\n",
        "fixed_noise = torch.randn((batch_size, z_dim)).to(device)\n",
        "transforms = T.Compose([T.ToTensor(), T.Normalize((0.1307,), (0.3081,))])\n",
        "dataset = datasets.MNIST(root=\"dataset/\", transform=transforms, download=True)\n",
        "loader = DataLoader(dataset, batch_size=batch_size, shuffle=True)\n",
        "opt_disc = optim.Adam(disc.parameters(), lr=lr)\n",
        "opt_gen = optim.Adam(gen.parameters(), lr=lr)\n",
        "criterion = nn.BCELoss()\n",
        "writer_fake = SummaryWriter(f\"runs/GAN_MNIST/fake\")\n",
        "writer_real = SummaryWriter(f\"runs/GAN_MNIST/real\")\n",
        "step = 0\n",
        "\n",
        "for epoch in range(num_epochs):\n",
        "    for batch_idx, (real, _) in enumerate(loader):\n",
        "        real = real.view(-1, 784).to(device)\n",
        "        batch_size = real.shape[0]\n",
        "\n",
        "        # Train Discriminator: max log(D(real)) + log(1- D(G(z)))\n",
        "        noise = torch.randn(batch_size, z_dim).to(device)\n",
        "        fake = gen(noise)\n",
        "        disc_real = disc(real).view(-1)\n",
        "        lossD_real = criterion(disc_real, torch.ones_like(disc_real))\n",
        "        disc_fake = disc(fake).view(-1)\n",
        "        lossD_fake = criterion(disc_fake, torch.zeros_like(disc_fake))\n",
        "        lossD = (lossD_real + lossD_fake) / 2\n",
        "        disc.zero_grad()\n",
        "        lossD.backward(retain_graph=True)\n",
        "        opt_disc.step()\n",
        "\n",
        "        # Train Generator: min log(1- D(G(z))) <--> max log(D(G(z))\n",
        "\n",
        "        output = disc(fake).view(-1)\n",
        "        lossG = criterion(output, torch.ones_like(output))\n",
        "        gen.zero_grad()\n",
        "        lossG.backward()\n",
        "        opt_gen.step()\n",
        "\n",
        "        if batch_idx == 0:\n",
        "          print(\n",
        "              f\"Epoch [{epoch}/{num_epochs}] Batch {batch_idx}/{len(loader)} \\\n",
        "                    Loss D: {lossD:.4f}, loss G: {lossG:.4f}\"\n",
        "          )\n",
        "\n",
        "          with torch.no_grad():\n",
        "              fake = gen(fixed_noise).reshape(-1, 1, 28, 28)\n",
        "              data = real.reshape(-1, 1, 28, 28)\n",
        "              img_grid_fake = torchvision.utils.make_grid(fake, normalize=True)\n",
        "              img_grid_real = torchvision.utils.make_grid(data, normalize=True)\n",
        "\n",
        "              writer_fake.add_image(\"MNIST Fake Images\", img_grid_fake, global_step=step)\n",
        "              writer_real.add_image(\"MNIST Real Images\", img_grid_real, global_step=step)\n",
        "              step += 1"
      ],
      "metadata": {
        "colab": {
          "base_uri": "https://localhost:8080/"
        },
        "id": "E-2d612vSIWG",
        "outputId": "3056fedf-34fb-4d2a-800f-df3d8b4b7935"
      },
      "execution_count": null,
      "outputs": [
        {
          "output_type": "stream",
          "name": "stdout",
          "text": [
            "Downloading http://yann.lecun.com/exdb/mnist/train-images-idx3-ubyte.gz\n",
            "Failed to download (trying next):\n",
            "<urlopen error [SSL: CERTIFICATE_VERIFY_FAILED] certificate verify failed: certificate has expired (_ssl.c:1007)>\n",
            "\n",
            "Downloading https://ossci-datasets.s3.amazonaws.com/mnist/train-images-idx3-ubyte.gz\n",
            "Downloading https://ossci-datasets.s3.amazonaws.com/mnist/train-images-idx3-ubyte.gz to dataset/MNIST/raw/train-images-idx3-ubyte.gz\n"
          ]
        },
        {
          "output_type": "stream",
          "name": "stderr",
          "text": [
            "100%|██████████| 9912422/9912422 [00:00<00:00, 117252079.18it/s]\n"
          ]
        },
        {
          "output_type": "stream",
          "name": "stdout",
          "text": [
            "Extracting dataset/MNIST/raw/train-images-idx3-ubyte.gz to dataset/MNIST/raw\n",
            "\n",
            "Downloading http://yann.lecun.com/exdb/mnist/train-labels-idx1-ubyte.gz\n",
            "Failed to download (trying next):\n",
            "<urlopen error [SSL: CERTIFICATE_VERIFY_FAILED] certificate verify failed: certificate has expired (_ssl.c:1007)>\n",
            "\n",
            "Downloading https://ossci-datasets.s3.amazonaws.com/mnist/train-labels-idx1-ubyte.gz\n",
            "Downloading https://ossci-datasets.s3.amazonaws.com/mnist/train-labels-idx1-ubyte.gz to dataset/MNIST/raw/train-labels-idx1-ubyte.gz\n"
          ]
        },
        {
          "output_type": "stream",
          "name": "stderr",
          "text": [
            "100%|██████████| 28881/28881 [00:00<00:00, 52078974.13it/s]"
          ]
        },
        {
          "output_type": "stream",
          "name": "stdout",
          "text": [
            "Extracting dataset/MNIST/raw/train-labels-idx1-ubyte.gz to dataset/MNIST/raw\n",
            "\n",
            "Downloading http://yann.lecun.com/exdb/mnist/t10k-images-idx3-ubyte.gz\n"
          ]
        },
        {
          "output_type": "stream",
          "name": "stderr",
          "text": [
            "\n"
          ]
        },
        {
          "output_type": "stream",
          "name": "stdout",
          "text": [
            "Failed to download (trying next):\n",
            "<urlopen error [SSL: CERTIFICATE_VERIFY_FAILED] certificate verify failed: certificate has expired (_ssl.c:1007)>\n",
            "\n",
            "Downloading https://ossci-datasets.s3.amazonaws.com/mnist/t10k-images-idx3-ubyte.gz\n",
            "Downloading https://ossci-datasets.s3.amazonaws.com/mnist/t10k-images-idx3-ubyte.gz to dataset/MNIST/raw/t10k-images-idx3-ubyte.gz\n"
          ]
        },
        {
          "output_type": "stream",
          "name": "stderr",
          "text": [
            "100%|██████████| 1648877/1648877 [00:00<00:00, 102154968.93it/s]\n"
          ]
        },
        {
          "output_type": "stream",
          "name": "stdout",
          "text": [
            "Extracting dataset/MNIST/raw/t10k-images-idx3-ubyte.gz to dataset/MNIST/raw\n",
            "\n",
            "Downloading http://yann.lecun.com/exdb/mnist/t10k-labels-idx1-ubyte.gz\n",
            "Failed to download (trying next):\n",
            "<urlopen error [SSL: CERTIFICATE_VERIFY_FAILED] certificate verify failed: certificate has expired (_ssl.c:1007)>\n",
            "\n",
            "Downloading https://ossci-datasets.s3.amazonaws.com/mnist/t10k-labels-idx1-ubyte.gz\n",
            "Downloading https://ossci-datasets.s3.amazonaws.com/mnist/t10k-labels-idx1-ubyte.gz to dataset/MNIST/raw/t10k-labels-idx1-ubyte.gz\n"
          ]
        },
        {
          "output_type": "stream",
          "name": "stderr",
          "text": [
            "100%|██████████| 4542/4542 [00:00<00:00, 5762410.40it/s]"
          ]
        },
        {
          "output_type": "stream",
          "name": "stdout",
          "text": [
            "Extracting dataset/MNIST/raw/t10k-labels-idx1-ubyte.gz to dataset/MNIST/raw\n",
            "\n"
          ]
        },
        {
          "output_type": "stream",
          "name": "stderr",
          "text": [
            "\n"
          ]
        },
        {
          "output_type": "stream",
          "name": "stdout",
          "text": [
            "Epoch [0/50] Batch 0/1875                     Loss D: 0.6269, loss G: 0.6843\n",
            "Epoch [1/50] Batch 0/1875                     Loss D: 0.1487, loss G: 2.2230\n",
            "Epoch [2/50] Batch 0/1875                     Loss D: 0.1831, loss G: 2.4162\n",
            "Epoch [3/50] Batch 0/1875                     Loss D: 0.0416, loss G: 4.3018\n",
            "Epoch [4/50] Batch 0/1875                     Loss D: 0.0282, loss G: 4.5742\n",
            "Epoch [5/50] Batch 0/1875                     Loss D: 0.0169, loss G: 4.7247\n",
            "Epoch [6/50] Batch 0/1875                     Loss D: 0.0182, loss G: 4.8843\n",
            "Epoch [7/50] Batch 0/1875                     Loss D: 0.0182, loss G: 4.7169\n",
            "Epoch [8/50] Batch 0/1875                     Loss D: 0.0174, loss G: 6.0799\n",
            "Epoch [9/50] Batch 0/1875                     Loss D: 0.0247, loss G: 5.5348\n",
            "Epoch [10/50] Batch 0/1875                     Loss D: 0.0176, loss G: 5.3674\n",
            "Epoch [11/50] Batch 0/1875                     Loss D: 0.0063, loss G: 6.2369\n",
            "Epoch [12/50] Batch 0/1875                     Loss D: 0.0117, loss G: 5.1648\n",
            "Epoch [13/50] Batch 0/1875                     Loss D: 0.0289, loss G: 4.8654\n",
            "Epoch [14/50] Batch 0/1875                     Loss D: 0.0144, loss G: 6.4827\n",
            "Epoch [15/50] Batch 0/1875                     Loss D: 0.0338, loss G: 5.7902\n",
            "Epoch [16/50] Batch 0/1875                     Loss D: 0.0124, loss G: 5.0746\n",
            "Epoch [17/50] Batch 0/1875                     Loss D: 0.0043, loss G: 6.0670\n",
            "Epoch [18/50] Batch 0/1875                     Loss D: 0.0051, loss G: 6.7471\n",
            "Epoch [19/50] Batch 0/1875                     Loss D: 0.0200, loss G: 5.6684\n",
            "Epoch [20/50] Batch 0/1875                     Loss D: 0.0125, loss G: 5.5115\n",
            "Epoch [21/50] Batch 0/1875                     Loss D: 0.0040, loss G: 7.0227\n",
            "Epoch [22/50] Batch 0/1875                     Loss D: 0.0072, loss G: 6.5621\n",
            "Epoch [23/50] Batch 0/1875                     Loss D: 0.0026, loss G: 6.7759\n",
            "Epoch [24/50] Batch 0/1875                     Loss D: 0.0061, loss G: 5.5633\n",
            "Epoch [25/50] Batch 0/1875                     Loss D: 0.0013, loss G: 7.0718\n",
            "Epoch [26/50] Batch 0/1875                     Loss D: 0.0022, loss G: 7.8857\n",
            "Epoch [27/50] Batch 0/1875                     Loss D: 0.0012, loss G: 7.3432\n",
            "Epoch [28/50] Batch 0/1875                     Loss D: 0.0047, loss G: 6.7266\n",
            "Epoch [29/50] Batch 0/1875                     Loss D: 0.0008, loss G: 7.2177\n",
            "Epoch [30/50] Batch 0/1875                     Loss D: 0.0480, loss G: 6.0330\n",
            "Epoch [31/50] Batch 0/1875                     Loss D: 0.0035, loss G: 8.2351\n",
            "Epoch [32/50] Batch 0/1875                     Loss D: 0.0020, loss G: 6.8046\n",
            "Epoch [33/50] Batch 0/1875                     Loss D: 0.0007, loss G: 8.3840\n",
            "Epoch [34/50] Batch 0/1875                     Loss D: 0.0069, loss G: 7.2914\n",
            "Epoch [35/50] Batch 0/1875                     Loss D: 0.0331, loss G: 8.0881\n",
            "Epoch [36/50] Batch 0/1875                     Loss D: 0.0047, loss G: 5.8305\n",
            "Epoch [37/50] Batch 0/1875                     Loss D: 0.0007, loss G: 7.6634\n",
            "Epoch [38/50] Batch 0/1875                     Loss D: 0.0018, loss G: 7.3378\n",
            "Epoch [39/50] Batch 0/1875                     Loss D: 0.0001, loss G: 9.8396\n",
            "Epoch [40/50] Batch 0/1875                     Loss D: 0.0038, loss G: 8.2767\n",
            "Epoch [41/50] Batch 0/1875                     Loss D: 0.0021, loss G: 8.0470\n",
            "Epoch [42/50] Batch 0/1875                     Loss D: 0.0004, loss G: 8.7699\n",
            "Epoch [43/50] Batch 0/1875                     Loss D: 0.0065, loss G: 6.0796\n",
            "Epoch [44/50] Batch 0/1875                     Loss D: 0.0014, loss G: 8.1846\n",
            "Epoch [45/50] Batch 0/1875                     Loss D: 0.0008, loss G: 8.6037\n",
            "Epoch [46/50] Batch 0/1875                     Loss D: 0.0019, loss G: 7.6234\n",
            "Epoch [47/50] Batch 0/1875                     Loss D: 0.0015, loss G: 8.9511\n",
            "Epoch [48/50] Batch 0/1875                     Loss D: 0.0006, loss G: 7.8836\n",
            "Epoch [49/50] Batch 0/1875                     Loss D: 0.0003, loss G: 9.5614\n"
          ]
        }
      ]
    },
    {
      "cell_type": "code",
      "source": [],
      "metadata": {
        "id": "wx0rz1jPWzRW"
      },
      "execution_count": null,
      "outputs": []
    }
  ]
}